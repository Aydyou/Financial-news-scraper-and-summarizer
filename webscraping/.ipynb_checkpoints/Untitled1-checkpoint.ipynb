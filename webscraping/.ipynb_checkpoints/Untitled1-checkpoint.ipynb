{
 "cells": [
  {
   "cell_type": "markdown",
   "metadata": {},
   "source": [
    "\n",
    "<html lang=\"en\">\n",
    "<head>\n",
    "    <meta charset=\"UTF-8\">\n",
    "    <meta name=\"viewport\" content=\"width=device-width, initial-scale=1.0\">\n",
    "    <meta http-equiv=\"X-UA-Compatible\" content=\"ie=edge\">\n",
    "    <title>Demo</title>\n",
    "    <link rel=\"stylesheet\" href=\"https://stackpath.bootstrapcdn.com/bootstrap/4.3.1/css/bootstrap.min.css\" integrity=\"sha384-ggOyR0iXCbMQv3Xipma34MD+dH/1fQ784/j6cY/iJTQUOhcWr7x9JvoRxT2MZw1T\" crossorigin=\"anonymous\">\n",
    "    <script src=\"https://code.jquery.com/jquery-3.3.1.slim.min.js\" integrity=\"sha384-q8i/X+965DzO0rT7abK41JStQIAqVgRVzpbzo5smXKp4YfRvH+8abtTE1Pi6jizo\" crossorigin=\"anonymous\"></script>\n",
    "<script src=\"https://cdnjs.cloudflare.com/ajax/libs/popper.js/1.14.7/umd/popper.min.js\" integrity=\"sha384-UO2eT0CpHqdSJQ6hJty5KVphtPhzWj9WO1clHTMGa3JDZwrnQq4sF86dIHNDz0W1\" crossorigin=\"anonymous\"></script>\n",
    "<script src=\"https://stackpath.bootstrapcdn.com/bootstrap/4.3.1/js/bootstrap.min.js\" integrity=\"sha384-JjSmVgyd0p3pXB1rRibZUAYoIIy6OrQ6VrjIEaFf/nJGzIxFDsf4x0xIM+B07jRM\" crossorigin=\"anonymous\"></script>\n",
    "</head>\n",
    "<body style=\"width:60%; margin-left:20%;\">\n",
    "    <h1 class=\"text-center\">Demo</h1>\n",
    "    <form action=\"/\" method=\"post\">\n",
    "        Get sentiment! <br> \n",
    "        After pushing the button, the app collects financial news from top media. Each time it collects about 150 news articles and about one million characters. Then starts summarizing the news and calculates the sentiment score. The sentiment score is between 0 and 100 with 100 being extremely positive and 0 being extremely negative. The summarized news will be about 70-80 thousands characters and the sentiment score will be updated along the summarization process. The summarization process is based on the Bart transfromer model.<br><br> With Each click 20 lines are loaded for more lines please keep clicking.\n",
    "        <input class=\"btn btn-primary\" type=\"submit\" value=\"Get Sentiment\">\n",
    "    </form>\n",
    "    {% if sentiment %}\n",
    "        <p>{{sentiment}}</p>\n",
    "        <p>{{sentiment2}}</p>\n",
    "        <p>{{sentiment3}}</p>\n",
    "        <p>{{sentiment4}}</p>\n",
    "        <p>{{sentiment5}}</p>\n",
    "        <p>{{sentiment6}}</p>\n",
    "        <p>{{sentiment7}}</p>\n",
    "        <p>{{sentiment8}}</p>\n",
    "        <p>{{sentiment9}}</p>\n",
    "        <p>{{sentiment10}}</p>\n",
    "        <p>{{sentiment11}}</p>\n",
    "        <p>{{sentiment12}}</p>\n",
    "        <p>{{sentiment13}}</p>\n",
    "        <p>{{sentiment14}}</p>\n",
    "        <p>{{sentiment15}}</p>\n",
    "        <p>{{sentiment16}}</p>\n",
    "        <p>{{sentiment17}}</p>\n",
    "        <p>{{sentiment18}}</p>\n",
    "        <p>{{sentiment19}}</p>\n",
    "        <p>{{sentiment20}}</p>\n",
    "    {% endif %}\n",
    "   \n",
    "    \n",
    "    \n",
    "</body>\n",
    "</html>"
   ]
  }
 ],
 "metadata": {
  "kernelspec": {
   "display_name": "Python 3",
   "language": "python",
   "name": "python3"
  },
  "language_info": {
   "codemirror_mode": {
    "name": "ipython",
    "version": 3
   },
   "file_extension": ".py",
   "mimetype": "text/x-python",
   "name": "python",
   "nbconvert_exporter": "python",
   "pygments_lexer": "ipython3",
   "version": "3.7.4"
  }
 },
 "nbformat": 4,
 "nbformat_minor": 2
}
